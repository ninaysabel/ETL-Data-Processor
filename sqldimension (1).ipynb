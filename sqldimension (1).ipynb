{
 "cells": [
  {
   "cell_type": "code",
   "execution_count": null,
   "id": "ebe084c2-362c-4034-ba18-4ba17f464dad",
   "metadata": {},
   "outputs": [],
   "source": [
    "# Installing Necessary Packages\n",
    "!pip install PyMySQL\n",
    "!pip install mysql-connector-python\n",
    "!pip install sqlalchemy\n",
    "import os\n",
    "import pymysql\n",
    "import mysql.connector\n",
    "from sqlalchemy import create_engine\n",
    "import datetime\n",
    "import pymongo\n",
    "import pprint\n",
    "import json\n",
    "\n",
    "import pandas as pd\n",
    "import matplotlib.pyplot as plt\n",
    "import warnings\n",
    "warnings.filterwarnings('ignore')"
   ]
  },
  {
   "cell_type": "code",
   "execution_count": null,
   "id": "c243bfee-2038-4928-9dd4-95835a4f3e10",
   "metadata": {},
   "outputs": [],
   "source": [
    "# Specifying/Loading IDs\n",
    "host_name = \"localhost\"\n",
    "host_ip = \"127.0.0.1\"\n",
    "port = \"3306\"\n",
    "\n",
    "user_id = \"ds2002\"\n",
    "pwd = \"UVA!1819\"\n",
    "db_name = \"project1\""
   ]
  },
  {
   "cell_type": "code",
   "execution_count": null,
   "id": "9c500286-470a-419c-8fb0-275f0068589c",
   "metadata": {},
   "outputs": [],
   "source": [
    "# Establish connection to MySQL Database \n",
    "try: \n",
    "    conn = pymysql.connect(host=host_name, user=user_id, password=pwd, database=db_name)\n",
    "    cursor = conn.cursor()\n",
    "\n",
    "    df = pd.read_sql(\"SELECT * FROM table_name;\", conn) # reads information from 'table_name' dataframe into a new dataframe called 'df'\n",
    "\n",
    "    conn.close()\n",
    "    df.head()\n",
    "except Exception as e: \n",
    "    print(f\"Error connecting to host: {e}\")"
   ]
  },
  {
   "cell_type": "code",
   "execution_count": null,
   "id": "b5d2ca69-6e3c-45a7-b5a0-8732af31a4d5",
   "metadata": {},
   "outputs": [],
   "source": [
    "# Selecting all columns from 'table_name' dataframe\n",
    "try: \n",
    "    sql_query = \"\"\"\n",
    "    SELECT * from table_name\n",
    "    \"\"\"\n",
    "except Exception as e: \n",
    "    print(f\"Error selecting information \")"
   ]
  },
  {
   "cell_type": "code",
   "execution_count": null,
   "id": "d6bf3dcc-f353-432b-ba54-6e2f1f3fc375",
   "metadata": {},
   "outputs": [],
   "source": [
    "# Connecting to MySQL database using given credentials \n",
    "try:\n",
    "    def get_sqlalchemy_dataframe(user_id, pwd, host_name, db_name, sql_query):\n",
    "        conn_str = f\"mysql+pymysql://{user_id}:{pwd}@{host_name}/{db_name}\"\n",
    "        sqlEngine = create_engine(conn_str, pool_recycle=3600)\n",
    "        connection = sqlEngine.connect()\n",
    "        dframe = pd.read_sql(sql_query, connection); #reads dataframe into a pandas dataframe\n",
    "        connection.close()\n",
    "    \n",
    "        return dframe\n",
    "except Exception as e: \n",
    "    print(f\"Error connecting to sqlalchemy_dataframe\")"
   ]
  },
  {
   "cell_type": "code",
   "execution_count": null,
   "id": "26bc90a2-dc94-44d3-a5c0-e85cd3904214",
   "metadata": {},
   "outputs": [],
   "source": [
    "# Creates connection to MySQL using given credentials and executes SQL query\n",
    "try:\n",
    "    df = get_sqlalchemy_dataframe(user_id, pwd, host_name, db_name, sql_query)\n",
    "except Exception as e: \n",
    "    print(f\"Error loading sqlalchemy_dateframe\")\n"
   ]
  },
  {
   "cell_type": "code",
   "execution_count": null,
   "id": "5876b489-ae3d-4c1e-9e86-e9c1418a1078",
   "metadata": {},
   "outputs": [],
   "source": [
    "# Inserting 'table_name' dataframe into MySQL database table\n",
    "try: \n",
    "    def insert_sqlalchemy_dataframe(user_id, pwd, host_name, db_name, df, table_name):\n",
    "        conn_str = f\"mysql+pymysql://{user_id}:{pwd}@{host_name}/{db_name}\"\n",
    "        sqlEngine = create_engine(conn_str, pool_recycle=3600)\n",
    "        connection = sqlEngine.connect()\n",
    "        df.to_sql(table_name, con=connection, if_exists='replace') #, index_label='product_id');  'append'\n",
    "   \n",
    "        connection.close()\n",
    "except Exception as e: \n",
    "    print(f\"Error inserting Pandas Dataframe into a MySQL database table\")"
   ]
  },
  {
   "cell_type": "code",
   "execution_count": null,
   "id": "9ae6e611-2a7c-4c9f-b800-966670fdc532",
   "metadata": {},
   "outputs": [],
   "source": [
    "# Inserting Pandas dataframe into MySQL database table using SQLAlchemy library\n",
    "try: \n",
    "    insert_sqlalchemy_dataframe(user_id, pwd, host_name, db_name, df_dim, 'dim_airlines')\n",
    "except Exception as e: \n",
    "    print(f\"Error inserting parameters into Pandas Dataframe\")"
   ]
  },
  {
   "cell_type": "code",
   "execution_count": null,
   "id": "24fbf4a7-b05e-4b2a-b72f-77a49f959b78",
   "metadata": {},
   "outputs": [],
   "source": [
    "# Selecting data from dataframe and loading it into 'df' Pandas dataframe \n",
    "try: \n",
    "    df = get_sqlalchemy_dataframe(user_id, pwd, host_name, db_name, 'SELECT * FROM dim_airlines')\n",
    "    df.head()\n",
    "except Exception as e: \n",
    "    print(f\"Error passing query parameters\")"
   ]
  },
  {
   "cell_type": "code",
   "execution_count": null,
   "id": "cfa495d4-bb3f-40a1-bf8d-63c600dce9fd",
   "metadata": {},
   "outputs": [],
   "source": [
    "# This file creates a dimension via SQL. \n",
    "# It connects to MySQL and loads all necessary information into a dataframe called 'dim_airlines' to be used in the produced fact table."
   ]
  }
 ],
 "metadata": {
  "kernelspec": {
   "display_name": "Python 3 (ipykernel)",
   "language": "python",
   "name": "python3"
  },
  "language_info": {
   "codemirror_mode": {
    "name": "ipython",
    "version": 3
   },
   "file_extension": ".py",
   "mimetype": "text/x-python",
   "name": "python",
   "nbconvert_exporter": "python",
   "pygments_lexer": "ipython3",
   "version": "3.8.13"
  }
 },
 "nbformat": 4,
 "nbformat_minor": 5
}
