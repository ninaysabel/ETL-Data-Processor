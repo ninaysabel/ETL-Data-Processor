{
 "cells": [
  {
   "cell_type": "code",
   "execution_count": null,
   "id": "ebe084c2-362c-4034-ba18-4ba17f464dad",
   "metadata": {},
   "outputs": [],
   "source": [
    "# Installing Necessary Packages\n",
    "!pip install PyMySQL\n",
    "!pip install mysql-connector-python\n",
    "!pip install sqlalchemy\n",
    "import os\n",
    "import pymysql\n",
    "import mysql.connector\n",
    "from sqlalchemy import create_engine\n",
    "import datetime\n",
    "import pymongo\n",
    "import pprint\n",
    "import json\n",
    "\n",
    "import pandas as pd\n",
    "import matplotlib.pyplot as plt\n",
    "import warnings\n",
    "warnings.filterwarnings('ignore')"
   ]
  },
  {
   "cell_type": "code",
   "execution_count": null,
   "id": "c243bfee-2038-4928-9dd4-95835a4f3e10",
   "metadata": {},
   "outputs": [],
   "source": [
    "# Specifying/Loading IDs\n",
    "host_name = \"localhost\"\n",
    "host_ip = \"127.0.0.1\"\n",
    "port = \"3306\"\n",
    "\n",
    "user_id = \"ds2002\"\n",
    "pwd = \"UVA!1819\"\n",
    "db_name = \"project1\""
   ]
  },
  {
   "cell_type": "code",
   "execution_count": null,
   "id": "9c500286-470a-419c-8fb0-275f0068589c",
   "metadata": {},
   "outputs": [],
   "source": [
    "# Connecting to MySQL\n",
    "try: \n",
    "    conn = pymysql.connect(host=host_name, user=user_id, password=pwd, database=db_name)\n",
    "    conn_str = f\"mysql+pymysql://{user_id}:{pwd}@{host_name}/{db_name}\"\n",
    "    sqlEngine = create_engine(conn_str, pool_recycle=3600) #connects to database in order to perform queries using SQLAlchemy\n",
    "    cursor = conn.cursor()\n",
    "except Exception as e: \n",
    "    print(f\"Unable to connect to database\")"
   ]
  },
  {
   "cell_type": "code",
   "execution_count": null,
   "id": "54ed44c6-6049-4f5c-b7d1-9147e5361d21",
   "metadata": {},
   "outputs": [],
   "source": [
    "# Reading CSV File into Pandas DataFrame Object 'df_csv'\n",
    "try: \n",
    "    data_dir = os.path.join(os.getcwd()) # create directory path to where CSV file is stored\n",
    "    data_file = os.path.join(data_dir, 'Air_Traffic_Passenger_Statistics.csv')\n",
    "\n",
    "    df_csv = pd.read_csv(data_file, header=0, index_col=0) # reads CSV file located at data_file path into DataFrame object 'df_csv'\n",
    "    df_csv.head()\n",
    "except as Exception as e: \n",
    "    print(f\"Error reading in CSV file\")"
   ]
  },
  {
   "cell_type": "code",
   "execution_count": null,
   "id": "b5d2ca69-6e3c-45a7-b5a0-8732af31a4d5",
   "metadata": {},
   "outputs": [],
   "source": [
    "# Dropping \"Terminal\" and \"Boarding Area\" column from DataFrame\n",
    "try: \n",
    "    df_csv.drop(columns=['Terminal', 'Boarding Area'], axis=1, inplace=True)\n",
    "except as Exception as e: \n",
    "    print(f\"Error dropping 'Terminal' and 'Boarding Area'\")"
   ]
  },
  {
   "cell_type": "code",
   "execution_count": null,
   "id": "26bc90a2-dc94-44d3-a5c0-e85cd3904214",
   "metadata": {},
   "outputs": [],
   "source": [
    "# Writing df_csv DataFrame to MySQL Database \"dim_airlines\"\n",
    "try: \n",
    "    df_csv.to_sql('dim_airlines', sqlEngine, if_exists='replace', index=False)\n",
    "    df_csv.head()\n",
    "except as Exception as e: \n",
    "    print(f\"\")"
   ]
  },
  {
   "cell_type": "code",
   "execution_count": null,
   "id": "cfa495d4-bb3f-40a1-bf8d-63c600dce9fd",
   "metadata": {},
   "outputs": [],
   "source": [
    "# This file creates a dimension and reads in a CSV file called \"Air_Traffic_Passenger_Statistics.csv\" and saves it as a DataFrame. \n",
    "# It then drops two unnecessary columns and saves it into a MySQL Database to be used in the produced fact table."
   ]
  },
  {
   "cell_type": "code",
   "execution_count": null,
   "id": "0b3ecf7c-42fe-4324-968d-a52bbf68e9c9",
   "metadata": {},
   "outputs": [],
   "source": []
  }
 ],
 "metadata": {
  "kernelspec": {
   "display_name": "Python 3 (ipykernel)",
   "language": "python",
   "name": "python3"
  },
  "language_info": {
   "codemirror_mode": {
    "name": "ipython",
    "version": 3
   },
   "file_extension": ".py",
   "mimetype": "text/x-python",
   "name": "python",
   "nbconvert_exporter": "python",
   "pygments_lexer": "ipython3",
   "version": "3.8.13"
  }
 },
 "nbformat": 4,
 "nbformat_minor": 5
}
