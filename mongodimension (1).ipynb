{
 "cells": [
  {
   "cell_type": "code",
   "execution_count": null,
   "id": "c940def3-e43a-41da-b842-3c76aa497c58",
   "metadata": {},
   "outputs": [],
   "source": [
    "# Installing Necessary Packages\n",
    "!pip install PyMySQL\n",
    "!pip install mysql-connector-python\n",
    "!pip install sqlalchemy\n",
    "import os\n",
    "import pymysql\n",
    "import mysql.connector\n",
    "from sqlalchemy import create_engine\n",
    "import datetime\n",
    "import pymongo\n",
    "import pprint\n",
    "import json\n",
    "from bson import json_util\n",
    "\n",
    "import pandas as pd\n",
    "import matplotlib.pyplot as plt\n",
    "import warnings\n",
    "warnings.filterwarnings('ignore')"
   ]
  },
  {
   "cell_type": "code",
   "execution_count": null,
   "id": "48604201-26a8-4467-9bbe-fa96ff61b6bf",
   "metadata": {},
   "outputs": [],
   "source": [
    "# Specifying/Loading My SQL ID's\n",
    "host_name = \"localhost\"\n",
    "host_ip = \"127.0.0.1\"\n",
    "port = \"3306\"\n",
    "\n",
    "user_id = \"ds2002\"\n",
    "pwd = \"UVA!1819\"\n",
    "db_name = \"project1\""
   ]
  },
  {
   "cell_type": "code",
   "execution_count": null,
   "id": "30db5403-4493-4e6e-84c4-eb3a0e4393ab",
   "metadata": {},
   "outputs": [],
   "source": [
    "# Defining Authentication Details\n",
    "atlas_cluster_name = \"cluster0.0zywi.mongodb.net\"\n",
    "atlas_default_dbname = \"test\"\n",
    "atlas_user_name = \"ds2002\"\n",
    "atlas_password = \"UVA!1819\""
   ]
  },
  {
   "cell_type": "code",
   "execution_count": null,
   "id": "15f2476e-4354-4567-9219-22d57a350bed",
   "metadata": {},
   "outputs": [],
   "source": [
    "# Connecting to MySQL and creating a cursor object for queries\n",
    "try: \n",
    "    conn = pymysql.connect(host=host_name, user=user_id, password=pwd, database=db_name) \n",
    "    cursor = conn.cursor()\n",
    "\n",
    "    df = pd.read_sql(\"SELECT * FROM table_name;\", conn)\n",
    "\n",
    "    conn.close()\n",
    "    df.head()\n",
    "except Exception as e: \n",
    "    print(f\"Error connecting to host\")"
   ]
  },
  {
   "cell_type": "code",
   "execution_count": null,
   "id": "537f7cb5-7b82-4e63-b291-46a566a0cc43",
   "metadata": {},
   "outputs": [],
   "source": [
    "# Establishing MongoDB\n",
    "try: \n",
    "  conn_str = {\n",
    "  #  \"local\" : f\"mongodb://{host_name}:{port}/\",\n",
    "    \"atlas\" : f\"mongodb+srv://{atlas_user_name}:{atlas_password}@{atlas_cluster_name}/{atlas_default_dbname}\" \n",
    "}\n",
    "\n",
    "  client = pymongo.MongoClient(conn_str[\"atlas\"])\n",
    "\n",
    "  #print(f\"Local Connection String: {conn_str['local']}\")\n",
    "  print(f\"Atlas Connection String: {conn_str['atlas']}\")\n",
    "except Exception as e: \n",
    "  print(f\"Error forming Atlas String Connection: {conn_str['atlas']}\")"
   ]
  },
  {
   "cell_type": "code",
   "execution_count": null,
   "id": "c6aeef09-1cd9-4df0-8345-697e10822244",
   "metadata": {},
   "outputs": [],
   "source": [
    "# Accessing MongoDB and retrieving sample_weatherdata\n",
    "try: \n",
    "    client.list_database_names()\n",
    "    db = client['sample_weatherdata']\n",
    "    wd = client.sample_weatherdata\n",
    "    weatherdata = wd.data\n",
    "except Exception as e: \n",
    "    print(f\"Error accessing database\")"
   ]
  },
  {
   "cell_type": "code",
   "execution_count": null,
   "id": "e5b9a09a-97f2-4224-80f1-dfd28b036662",
   "metadata": {},
   "outputs": [],
   "source": [
    "# Connect to SQL database and query data\n",
    "try: \n",
    "    conn_str = f\"mysql+pymysql://{user_id}:{pwd}@{host_name}/{db_name}\"\n",
    "    sql_engine = create_engine(conn_str)\n",
    "    df_sql = pd.read_sql(\"SELECT * FROM table_name\", con=sql_engine)\n",
    "except Exception as e:\n",
    "    print(f\"Error accessing SQL database\")\n",
    "\n",
    "# Connect to MongoDB database and query data\n",
    "try: \n",
    "    mongo_client = pymongo.MongoClient(f\"mongodb+srv://{atlas_user_name}:{atlas_password}@{atlas_cluster_name}/{atlas_default_dbname}\")\n",
    "    mongo_db = mongo_client[\"sample_weatherdata\"]\n",
    "    mongo_collection = mongo_db[\"data\"]\n",
    "    mongo_data = list(mongo_collection.find())\n",
    "    df_mongo = pd.DataFrame(mongo_data)\n",
    "\n",
    "    df_mongo = df_mongo.applymap(lambda x: str(x) if not isinstance(x, str) else x)\n",
    "except Exception as e: \n",
    "    print(f\"Error accessing MongoDB or Querying Data\")\n",
    "\n",
    "# Write dimension table to SQL database\n",
    "try: \n",
    "    df_mongo.to_sql(\"dim_weather\", con=sql_engine, if_exists=\"replace\")\n",
    "    df_mongo.head()\n",
    "except Exception as e: \n",
    "    print(f\"Error writing dimension table to SQL database\")"
   ]
  },
  {
   "cell_type": "code",
   "execution_count": null,
   "id": "8e0037f4-ee63-4879-a902-9a09453ff7b7",
   "metadata": {},
   "outputs": [],
   "source": [
    "# This file creates a dimension table using 'sample_weather data' as loaded from MongoDB. \n",
    "# This specific dataset was used to see if certain weather conditions affect flight departures/cause delays and verify if there is a pattern of certain weather conditions and delays (example: hurricane season could increase delays)."
   ]
  }
 ],
 "metadata": {
  "kernelspec": {
   "display_name": "Python 3 (ipykernel)",
   "language": "python",
   "name": "python3"
  },
  "language_info": {
   "codemirror_mode": {
    "name": "ipython",
    "version": 3
   },
   "file_extension": ".py",
   "mimetype": "text/x-python",
   "name": "python",
   "nbconvert_exporter": "python",
   "pygments_lexer": "ipython3",
   "version": "3.8.13"
  }
 },
 "nbformat": 4,
 "nbformat_minor": 5
}
